{
 "cells": [
  {
   "cell_type": "code",
   "execution_count": 2,
   "metadata": {},
   "outputs": [],
   "source": [
    "#import the Libraries \n",
    "import numpy as nu #used for data structure\n",
    "import matplotlib.pyplot as plt #visualisation "
   ]
  },
  {
   "cell_type": "markdown",
   "metadata": {},
   "source": [
    "**Equation to be used:**      \n",
    "$f(n) = {236.n^{2.54} + n.m_n - \\rho_s}$       \n",
    "$f'(n) = 236 \\times 2.54 \\times n^{1.54} + m_n$\n",
    "\n",
    "**Newton Raphson Method:**          \n",
    "$n_{i+1} = n_i - \\frac{f(n_i)}{f'(n_i)}$"
   ]
  },
  {
   "cell_type": "code",
   "execution_count": 3,
   "metadata": {},
   "outputs": [],
   "source": [
    "def initial_n():\n",
    "    n = 1 # initial value of n\n",
    "    err = 1 # initial Error\n",
    "    tol = 1e-15 # Tolerance \n",
    "    count = 0 # total iteration \n",
    "\n",
    "    #Newton Raphson Method\n",
    "    with err > tol:\n",
    "        count+=1\n",
    "        fn = 236*n**(2.54) + n*mn - rho_s # Find f(n_old)\n",
    "        dfn = 236*2.54*n**(1.54) + mn\n",
    "        temp = n - fn/dfn\n",
    "        err = np.abs(n-temp)\n",
    "        n = temp\n",
    "    print(\"Newton-Raphson Converged after \", count, \"iterations\")\n",
    "    return n"
   ]
  }
 ],
 "metadata": {
  "kernelspec": {
   "display_name": "Python 3",
   "language": "python",
   "name": "python3"
  },
  "language_info": {
   "codemirror_mode": {
    "name": "ipython",
    "version": 3
   },
   "file_extension": ".py",
   "mimetype": "text/x-python",
   "name": "python",
   "nbconvert_exporter": "python",
   "pygments_lexer": "ipython3",
   "version": "3.9.6"
  }
 },
 "nbformat": 4,
 "nbformat_minor": 2
}
