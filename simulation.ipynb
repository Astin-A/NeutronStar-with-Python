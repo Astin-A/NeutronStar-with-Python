{
 "cells": [
  {
   "cell_type": "code",
   "execution_count": 2,
   "metadata": {},
   "outputs": [],
   "source": [
    "#import the Libraries \n",
    "import numpy as nu #used for data structure\n",
    "import matplotlib.pyplot as plt #visualisation "
   ]
  },
  {
   "cell_type": "markdown",
   "metadata": {},
   "source": [
    "**Equation to be used:**      \n",
    "$f(n) = {236.n^{2.54} + n.m_n - \\rho_s}$       \n",
    "$f'(n) = 236 \\times 2.54 \\times n^{1.54} + m_n$\n",
    "\n",
    "**Newton Raphson Method:**          \n",
    "$n_{i+1} = n_i - \\frac{f(n_i)}{f'(n_i)}$"
   ]
  }
 ],
 "metadata": {
  "kernelspec": {
   "display_name": "Python 3",
   "language": "python",
   "name": "python3"
  },
  "language_info": {
   "codemirror_mode": {
    "name": "ipython",
    "version": 3
   },
   "file_extension": ".py",
   "mimetype": "text/x-python",
   "name": "python",
   "nbconvert_exporter": "python",
   "pygments_lexer": "ipython3",
   "version": "3.9.6"
  }
 },
 "nbformat": 4,
 "nbformat_minor": 2
}
