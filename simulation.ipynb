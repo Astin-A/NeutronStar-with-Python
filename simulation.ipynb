{
 "cells": [
  {
   "cell_type": "code",
   "execution_count": 11,
   "metadata": {},
   "outputs": [],
   "source": [
    "#import the Libraries \n",
    "import numpy as np #used for data structure\n",
    "import matplotlib.pyplot as plt #visualisation "
   ]
  },
  {
   "cell_type": "markdown",
   "metadata": {},
   "source": [
    "**Equation to be used:**      \n",
    "$f(n) = {236.n^{2.54} + n.m_n - \\rho_s}$       \n",
    "$f'(n) = 236 \\times 2.54 \\times n^{1.54} + m_n$\n",
    "\n",
    "**Newton Raphson Method:**          \n",
    "$n_{i+1} = n_i - \\frac{f(n_i)}{f'(n_i)}$"
   ]
  },
  {
   "cell_type": "code",
   "execution_count": 32,
   "metadata": {},
   "outputs": [],
   "source": [
    "def initial_n():\n",
    "    n = 1 # initial value of n\n",
    "    err = 1 # initial Error\n",
    "    tol = 1e-15 # Tolerance \n",
    "    count = 0 # total iteration \n",
    "\n",
    "    #Newton Raphson Method\n",
    "    while err > tol:\n",
    "        count+=1\n",
    "        fn = 236*n**(2.54) + n*mn - rho_s # Find f(n_old)\n",
    "        dfn = 236*2.54*n**(1.54) + mn\n",
    "        temp = n - fn/dfn  # n_new\n",
    "        err = np.abs(n-temp)\n",
    "        n = temp\n",
    "    print(\"Newton-Raphson Converged after \", count, \"iterations\")\n",
    "    return n"
   ]
  },
  {
   "cell_type": "code",
   "execution_count": 14,
   "metadata": {},
   "outputs": [],
   "source": [
    "def rho(p):\n",
    "\n",
    "    '''\n",
    "    Energy Density of a neutron star at a given pressure\n",
    "    rho_s - Central Density at r = 0\n",
    "    mn - mass of a neutron\n",
    "    n - number density at given pressure\n",
    "    '''\n",
    "\n",
    "    n = (p*rho_s/363.44)**(1/2.54)\n",
    "    return (236. * n**2.54 + n *mn)/rho_s"
   ]
  },
  {
   "cell_type": "code",
   "execution_count": 15,
   "metadata": {},
   "outputs": [],
   "source": [
    "def dp_dr(r,m,p,flag):\n",
    "\n",
    "    '''\n",
    "    Pressure Gradient\n",
    "    r - distance from the center of neutron star\n",
    "    m - mass enclosed within the value of r\n",
    "    p - pressure at that value of r\n",
    "    flag - choose between classical and relativistic models\n",
    "    '''\n",
    "\n",
    "    if flag == 0:\n",
    "        # Classical Model\n",
    "        y = -m*rho(p)/(r**2 + 1e-20)\n",
    "\n",
    "    else:\n",
    "        # Relativistic Model\n",
    "        y = -(p+rho(p))*(m + p*r**3)/(r**2 - 2*m*r + 1e-20)\n",
    "\n",
    "    return y"
   ]
  },
  {
   "cell_type": "code",
   "execution_count": 16,
   "metadata": {},
   "outputs": [],
   "source": [
    "def dm_dr(r,m,p):\n",
    "\n",
    "    '''\n",
    "    Mass Gradient\n",
    "    Same r, m, p as we used for pressure gradient are to be used for mass gradient\n",
    "    '''\n",
    "\n",
    "    return rho(p)*r**2"
   ]
  },
  {
   "cell_type": "code",
   "execution_count": 18,
   "metadata": {},
   "outputs": [],
   "source": [
    "def RK4Solver(r,m,p,h,flag):\n",
    "\n",
    "    '''\n",
    "    Runge - Kutta 4th order Method\n",
    "    Calculates 4 different pressure and mass gradients\n",
    "    K1_ - Mass Gradients\n",
    "    K2_ - Pressure Gradients\n",
    "    '''\n",
    "    y = np.zeros(2)                                               # To store the next value of m and p\n",
    "\n",
    "    # Gradient 1 at start point\n",
    "    k11 = dm_dr(r, m, p)\n",
    "    k21 = dp_dr(r, m, p, flag)\n",
    "\n",
    "    # Gradient 2 at mid of start and end point\n",
    "    k12 = dm_dr(r + 0.5*h, m + 0.5*k11*h, p + 0.5*k21*h)\n",
    "    k22 = dp_dr(r + 0.5*h, m + 0.5*k11*h, p + 0.5*k21*h, flag)\n",
    "\n",
    "    # Gradient 3 at mid of start and end point\n",
    "    k13 = dm_dr(r + 0.5*h, m + 0.5*k12*h, p + 0.5*k22*h)\n",
    "    k23 = dp_dr(r + 0.5*h, m + 0.5*k12*h, p + 0.5*k22*h, flag)\n",
    "\n",
    "    # Gradient 4 at end point\n",
    "    k14 = dm_dr(r + h, m + k13*h, p + k23*h)\n",
    "    k24 = dp_dr(r + h, m + k13*h, p + k23*h, flag)\n",
    "\n",
    "    # Updation of m and p\n",
    "    y[0] = m + h*(k11 + 2*k12 + 2*k13 + k14)/6\n",
    "    y[1] = p + h*(k21 + 2*k22 + 2*k23 + k24)/6\n",
    "\n",
    "    return y"
   ]
  },
  {
   "cell_type": "code",
   "execution_count": 19,
   "metadata": {},
   "outputs": [],
   "source": [
    "def plot_data(color, label):\n",
    "\n",
    "    # Mass Profile\n",
    "    plt.subplot(1, 2, 1)\n",
    "    plt.plot(r*R0*1e-18, m*M0/Ms, color = color, linewidth = 1.2, label = label)\n",
    "    plt.xlabel('Distance, $r$ (km)', fontsize = 13)\n",
    "    plt.ylabel('Mass, $M/M_{sun}$', fontsize = 13)\n",
    "    plt.title('Mass Profile of a Neutron Star', color = 'tab:red', weight = 'bold', fontsize = 15)\n",
    "    plt.xlim(left = 0)\n",
    "    plt.ylim(bottom = 0)\n",
    "    plt.legend(fontsize = 13, frameon = False)\n",
    "\n",
    "    # Pressure Profile\n",
    "    plt.subplot(1, 2, 2)\n",
    "    plt.plot(r*R0*1e-18, p*rho_s, color = color, linewidth = 1.2, label = label)\n",
    "    plt.xlabel('Distance, $r$ (km)', fontsize = 13)\n",
    "    plt.ylabel('Pressure, $P$ $(MeV/fm^{3})$', fontsize = 13)\n",
    "    plt.title('Pressure Profile of a Neutron Star', color = 'tab:red', weight = 'bold', fontsize = 15)\n",
    "    plt.xlim(left = 0)\n",
    "    plt.ylim(bottom = 0)\n",
    "    plt.legend(fontsize = 13, frameon = False)"
   ]
  },
  {
   "cell_type": "code",
   "execution_count": 30,
   "metadata": {},
   "outputs": [],
   "source": [
    "# Simulation parameters and Conversion factors\n",
    "hc = 197.327                                # conversion factor in MeV fm (h bar * c)\n",
    "G = hc * 6.67259e-45                        # gravitational constant in MeV^-1 fm^3 kg^-1\n",
    "Ms = 1.1157467e60                           # mass of Sun in MeV\n",
    "rho_s = 1665.3                              # central density of neutron star (density at r = 0) in MeV/fm^3\n",
    "M0 = (4*3.14159265*(G**3)*rho_s)**(-0.5)\n",
    "R0 = G*M0\n",
    "mn = 938.926                                # mass of a neutron in MeV c^-2"
   ]
  },
  {
   "cell_type": "code",
   "execution_count": 33,
   "metadata": {},
   "outputs": [
    {
     "name": "stdout",
     "output_type": "stream",
     "text": [
      "Newton-Raphson Converged after  5 iterations\n",
      "Initial number density, ni = 1.2918969375342138\n",
      "Initial Pressure, P[0] =  696.5487390842761 MeV/fm^3\n",
      "Simulation range, R = 0 to R = 90.36486611870906 km\n",
      "Step size for RK4 Solver: 0.01\n"
     ]
    }
   ],
   "source": [
    "#Initialising Values and Arrays\n",
    "\n",
    "'''Values for radius, step size and tolerance value'''\n",
    "N = 1501                              # Total number of data points\n",
    "r = np.linspace(0,15,N)               # values of radius to compute enclosed mass within it, pressure and density profiles\n",
    "h = r[1]-r[0]                         # step size for RK4Solver\n",
    "tol = 9e-5                            # tolerance for RK4Solver\n",
    "\n",
    "'''Arrays to store the updation values in RK4Solver'''\n",
    "m = np.zeros(N)                       # mass\n",
    "p = np.zeros(N)                       # pressure\n",
    "\n",
    "'''Initial Number Density of Neutrons at r = 0'''\n",
    "ni = initial_n()\n",
    "\n",
    "'''Setting intial values in the array - values at the center of the neutron star'''\n",
    "r[0] = 0                              # radius\n",
    "m[0] = 0                              # mass\n",
    "p[0] = 363.44 * (ni**2.54)/rho_s      # pressure\n",
    "\n",
    "'''Setting flags for choosing between classical and relativistic model'''\n",
    "flag_set = [0,1]\n",
    "\n",
    "'''Printing Inital Values'''\n",
    "print(\"Initial number density, ni =\", ni)\n",
    "print(\"Initial Pressure, P[0] = \", p[0]*rho_s, \"MeV/fm^3\")\n",
    "print(\"Simulation range, R = 0 to R =\", r[-1]*R0*1e-18, \"km\") # 1e-18 is the conversion factor from femtometers to kilometers\n",
    "print(\"Step size for RK4 Solver:\", h)"
   ]
  }
 ],
 "metadata": {
  "kernelspec": {
   "display_name": "Python 3",
   "language": "python",
   "name": "python3"
  },
  "language_info": {
   "codemirror_mode": {
    "name": "ipython",
    "version": 3
   },
   "file_extension": ".py",
   "mimetype": "text/x-python",
   "name": "python",
   "nbconvert_exporter": "python",
   "pygments_lexer": "ipython3",
   "version": "3.9.6"
  }
 },
 "nbformat": 4,
 "nbformat_minor": 2
}
