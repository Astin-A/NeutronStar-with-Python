{
 "cells": [
  {
   "cell_type": "code",
   "execution_count": 2,
   "metadata": {},
   "outputs": [],
   "source": [
    "#import the Libraries \n",
    "import numpy as nu #used for data structure\n",
    "import matplotlib.pyplot as plt #visualisation "
   ]
  },
  {
   "cell_type": "markdown",
   "metadata": {},
   "source": [
    "**Equation to be used:**      \n",
    "$f(n) = {236.n^{2.54} + n.m_n - \\rho_s}$       \n",
    "$f'(n) = 236 \\times 2.54 \\times n^{1.54} + m_n$\n",
    "\n",
    "**Newton Raphson Method:**          \n",
    "$n_{i+1} = n_i - \\frac{f(n_i)}{f'(n_i)}$"
   ]
  },
  {
   "cell_type": "code",
   "execution_count": 3,
   "metadata": {},
   "outputs": [],
   "source": [
    "def initial_n():\n",
    "    n = 1 # initial value of n\n",
    "    err = 1 # initial Error\n",
    "    tol = 1e-15 # Tolerance \n",
    "    count = 0 # total iteration \n",
    "\n",
    "    #Newton Raphson Method\n",
    "    with err > tol:\n",
    "        count+=1\n",
    "        fn = 236*n**(2.54) + n*mn - rho_s # Find f(n_old)\n",
    "        dfn = 236*2.54*n**(1.54) + mn\n",
    "        temp = n - fn/dfn # n_new\n",
    "        err = np.abs(n-temp)\n",
    "        n = temp\n",
    "    print(\"Newton-Raphson Converged after \", count, \"iterations\")\n",
    "    return n"
   ]
  },
  {
   "cell_type": "code",
   "execution_count": 4,
   "metadata": {},
   "outputs": [],
   "source": [
    "def rho(p):\n",
    "\n",
    "    '''\n",
    "    Energy Density of a neutron star at a given pressure\n",
    "    rho_s - Central Density at r = 0\n",
    "    mn - mass of a neutron\n",
    "    n - number density at given pressure\n",
    "    '''\n",
    "\n",
    "    n = (p*rho_s/363.44)**(1/2.54)\n",
    "    return (236. * n**2.54 + n *mn)/rho_s"
   ]
  },
  {
   "cell_type": "code",
   "execution_count": 5,
   "metadata": {},
   "outputs": [],
   "source": [
    "def dp_dr(r,m,p,flag):\n",
    "\n",
    "    '''\n",
    "    Pressure Gradient\n",
    "    r - distance from the center of neutron star\n",
    "    m - mass enclosed within the value of r\n",
    "    p - pressure at that value of r\n",
    "    flag - choose between classical and relativistic models\n",
    "    '''\n",
    "\n",
    "    if flag == 0:\n",
    "        # Classical Model\n",
    "        y = -m*rho(p)/(r**2 + 1e-20)\n",
    "\n",
    "    else:\n",
    "        # Relativistic Model\n",
    "        y = -(p+rho(p))*(m + p*r**3)/(r**2 - 2*m*r + 1e-20)\n",
    "\n",
    "    return y"
   ]
  },
  {
   "cell_type": "code",
   "execution_count": 6,
   "metadata": {},
   "outputs": [],
   "source": [
    "def dm_dr(r,m,p):\n",
    "\n",
    "    '''\n",
    "    Mass Gradient\n",
    "    Same r, m, p as we used for pressure gradient are to be used for mass gradient\n",
    "    '''\n",
    "\n",
    "    return rho(p)*r**2"
   ]
  },
  {
   "cell_type": "code",
   "execution_count": 7,
   "metadata": {},
   "outputs": [],
   "source": [
    "def RK4Solver(r,m,p,h,flag):\n",
    "\n",
    "    '''\n",
    "    Runge - Kutta 4th order Method\n",
    "    Calculates 4 different pressure and mass gradients\n",
    "    K1_ - Mass Gradients\n",
    "    K2_ - Pressure Gradients\n",
    "    '''\n",
    "    y = np.zeros(2)                                               # To store the next value of m and p\n",
    "\n",
    "    # Gradient 1 at start point\n",
    "    k11 = dm_dr(r, m, p)\n",
    "    k21 = dp_dr(r, m, p, flag)\n",
    "\n",
    "    # Gradient 2 at mid of start and end point\n",
    "    k12 = dm_dr(r + 0.5*h, m + 0.5*k11*h, p + 0.5*k21*h)\n",
    "    k22 = dp_dr(r + 0.5*h, m + 0.5*k11*h, p + 0.5*k21*h, flag)\n",
    "\n",
    "    # Gradient 3 at mid of start and end point\n",
    "    k13 = dm_dr(r + 0.5*h, m + 0.5*k12*h, p + 0.5*k22*h)\n",
    "    k23 = dp_dr(r + 0.5*h, m + 0.5*k12*h, p + 0.5*k22*h, flag)\n",
    "\n",
    "    # Gradient 4 at end point\n",
    "    k14 = dm_dr(r + h, m + k13*h, p + k23*h)\n",
    "    k24 = dp_dr(r + h, m + k13*h, p + k23*h, flag)\n",
    "\n",
    "    # Updation of m and p\n",
    "    y[0] = m + h*(k11 + 2*k12 + 2*k13 + k14)/6\n",
    "    y[1] = p + h*(k21 + 2*k22 + 2*k23 + k24)/6\n",
    "\n",
    "    return y"
   ]
  }
 ],
 "metadata": {
  "kernelspec": {
   "display_name": "Python 3",
   "language": "python",
   "name": "python3"
  },
  "language_info": {
   "codemirror_mode": {
    "name": "ipython",
    "version": 3
   },
   "file_extension": ".py",
   "mimetype": "text/x-python",
   "name": "python",
   "nbconvert_exporter": "python",
   "pygments_lexer": "ipython3",
   "version": "3.9.6"
  }
 },
 "nbformat": 4,
 "nbformat_minor": 2
}
